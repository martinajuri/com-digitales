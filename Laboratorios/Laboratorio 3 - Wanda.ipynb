{
 "cells": [
  {
   "cell_type": "markdown",
   "id": "326df87c",
   "metadata": {},
   "source": [
    "# Práctica de Laboratorio N°3: Recepción de hipótesis enviadas a través del canal inhalámbrico."
   ]
  },
  {
   "cell_type": "markdown",
   "id": "87b752ae",
   "metadata": {},
   "source": [
    "## Objetivo:\n",
    "Analizar la transmisión y recepción de señales digitales complejas binarias usando un SDR:\n",
    "- Observar las características temporales, frecuenciales y estadísticas de una señal binaria compleja.\n",
    "- Ver cómo se afectan estas características al modificar ciertos parámetros como:\n",
    "\n",
    "    ref: que ajusta la probabilidad de ocurrencia de los valores binarios de la señal.\n",
    "    \n",
    "    TxAtten: que ajusta la potencia de transmisión del SDR.\n",
    "    \n",
    "- Enviar señales con una distribución diferente (no binaria), y observar su comportamiento luego de la transmisión."
   ]
  },
  {
   "cell_type": "markdown",
   "id": "fc5b50ae",
   "metadata": {},
   "source": [
    "# Señal binaria a enviar\n",
    "El siguiente código genera una señal (hipótesis en este problema) binaria comleja que permite modificar, a través de la variable \"ref\", la probabilidad de ocurrencia de los valores binarios. En prencipio vamos a suponer que los mensajes son equiprobables (ref = 0.5):"
   ]
  },
  {
   "cell_type": "code",
   "execution_count": null,
   "id": "093a1195",
   "metadata": {},
   "outputs": [],
   "source": [
    "import numpy as np\n",
    "import matplotlib.pyplot as plt\n",
    "from scipy.fft import fft, fftfreq\n",
    "\n",
    "ref = 0.5\n",
    "nb_samples = 100\n",
    "\n",
    "# Generate random bits\n",
    "z = np.random.uniform(size=nb_samples) # Generate random numbers between 0 and 1\n",
    "# Convert to binary signal based on reference value \n",
    "x = [1 if z[i]>ref else 0 for i in range(len(z))] \n",
    "txSignal = (2*np.repeat(x, 2**4)-1)+1j*(2*np.repeat(x, 2**4)-1) # Transmit signal"
   ]
  },
  {
   "cell_type": "markdown",
   "id": "dc6a251b",
   "metadata": {},
   "source": [
    "Se genrea un array de numeros aleatorio z que contiene numeros distribuidos uniformemente entre 0 y 1. Luego, a partir del valor ref, se convierte cada elemento de z en un valor binario: si z[i] > ref, el valor es 1, si no, es 0. Cada valor binario se almacena en el array x. \n",
    "\n",
    "Al momento de la transmisión, se repite cada valor de x un total de 16 veces, generando una señal más larga manteniendo cada valor constante por un período. Ademas, se transforma cada 0 y 1 en -1 y +1 respectivamente, construyendo asi una señal compleja binaria."
   ]
  },
  {
   "cell_type": "markdown",
   "id": "877964be",
   "metadata": {},
   "source": [
    "### Gráfica temporal"
   ]
  },
  {
   "cell_type": "code",
   "execution_count": null,
   "id": "888079e8",
   "metadata": {},
   "outputs": [],
   "source": [
    "plt.figure(figsize=(12, 4))\n",
    "plt.plot(np.real(txSignal), label='Parte real')\n",
    "plt.plot(np.imag(txSignal), label='Parte imaginaria', alpha=0.7)\n",
    "plt.title('Señal en el tiempo')\n",
    "plt.xlabel('Muestra')\n",
    "plt.ylabel('Amplitud')\n",
    "plt.legend()\n",
    "plt.grid(True)\n",
    "plt.tight_layout()\n",
    "plt.show()"
   ]
  },
  {
   "cell_type": "markdown",
   "id": "a30d7e5e",
   "metadata": {},
   "source": [
    "En la gráfica temporal se observa que tanto la componente en fase (parte real) como la componente en cuadratura (parte imaginaria) presentan niveles constantes en -1 y +1, alternando aleatoriamente. Cada valor se mantiene constante durante 16 muestras consecutivas, ya que se utilizó un factor de repetición (2^4 = 16) para extender temporalmente cada símbolo."
   ]
  },
  {
   "cell_type": "markdown",
   "id": "2c818c2d",
   "metadata": {},
   "source": [
    "### Histogramas"
   ]
  },
  {
   "cell_type": "code",
   "execution_count": null,
   "id": "bb4cb8d7",
   "metadata": {},
   "outputs": [],
   "source": [
    "plt.figure(figsize=(10, 4))\n",
    "plt.subplot(1, 2, 1)\n",
    "plt.hist(np.real(txSignal), bins=np.arange(-1.5, 2, 1), edgecolor='black')\n",
    "plt.title('Histograma Parte Real')\n",
    "plt.xlabel('Valor')\n",
    "plt.ylabel('Frecuencia')\n",
    "\n",
    "plt.subplot(1, 2, 2)\n",
    "plt.hist(np.imag(txSignal), bins=np.arange(-1.5, 2, 1), edgecolor='black')\n",
    "plt.title('Histograma Parte Imaginaria')\n",
    "plt.xlabel('Valor')\n",
    "plt.ylabel('Frecuencia')\n",
    "\n",
    "plt.tight_layout()\n",
    "plt.show()"
   ]
  },
  {
   "cell_type": "markdown",
   "id": "5c72c1cf",
   "metadata": {},
   "source": [
    "Los histogramas de las componentes real e imaginaria muestran claramente dos picos centrados en los valores -1 y +1. Como la probabilidad de 0 y 1 fue de 50% (por ref = 0.5), ambos valores aparecen con aproximadamente la misma frecuencia, lo que indica una distribución balanceada. Esta distribución simétrica es esperable en una señal binaria generada con igual probabilidad para ambos símbolos."
   ]
  },
  {
   "cell_type": "markdown",
   "id": "6e6abca1",
   "metadata": {},
   "source": [
    "### Gráfica de frecuencias"
   ]
  },
  {
   "cell_type": "code",
   "execution_count": null,
   "id": "1214938b",
   "metadata": {},
   "outputs": [],
   "source": [
    "# Transformada de Fourier\n",
    "N = len(txSignal)\n",
    "frecuencia = fftfreq(N, d=1)  # Frecuencias\n",
    "espectro = fft(txSignal)\n",
    "\n",
    "plt.figure(figsize=(12, 4))\n",
    "plt.plot(np.abs(frecuencia[:N // 2]), 20*np.log10(np.abs(espectro[:N // 2])))\n",
    "plt.title('Magnitud del espectro de la señal')\n",
    "plt.xlabel('Frecuencia (Hz normalizada)')\n",
    "plt.ylabel('Magnitud (dB)')\n",
    "plt.grid(True)\n",
    "plt.tight_layout()\n",
    "plt.show()"
   ]
  },
  {
   "cell_type": "markdown",
   "id": "3f7b95e5",
   "metadata": {},
   "source": [
    "El espectro de la señal presenta una estructura periódica con caídas pronunciadas (notches) en intervalos regulares. Esto se debe a que cada símbolo binario (0 o 1) fue repetido 16 veces consecutivas (2^4), generando un patrón determinista en el tiempo. Esta repetición introduce correlación entre muestras, lo que se traduce en el dominio de la frecuencia en una envolvente periódica con mínimos regulares."
   ]
  },
  {
   "cell_type": "markdown",
   "id": "064848ba",
   "metadata": {},
   "source": [
    "# Configuración del SDR\n",
    "Se utilizan las siguientes librerias para conectarnos al SDR y configurar los parametros:"
   ]
  },
  {
   "cell_type": "code",
   "execution_count": null,
   "id": "9313d5f4",
   "metadata": {},
   "outputs": [],
   "source": [
    "#!pip install pyadi-iio\n",
    "#!pip install seaborn"
   ]
  },
  {
   "cell_type": "markdown",
   "id": "168fd94d",
   "metadata": {},
   "source": [
    "La configuración para conectarnos al SDR es la siguiente:"
   ]
  },
  {
   "cell_type": "code",
   "execution_count": null,
   "id": "da5ec1aa",
   "metadata": {},
   "outputs": [],
   "source": [
    "import adi\n",
    "\n",
    "# Configuración del SDR\n",
    "sdr = adi.Pluto(\"ip:192.168.1.32\")\n",
    "# Parámetros TX y RX\n",
    "sdr.sample_rate = int(2e6)              # Tasa de muestreo\n",
    "sdr.tx_lo = int(915e6)                  # Frecuencia de transmisión (ejemplo)\n",
    "sdr.tx_hardwaregain = -79               # Atenuación en TX [dB]\n",
    "sdr.tx_rf_bandwidth = int(2e6)          # Ancho de banda TX\n",
    "\n",
    "sdr.rx_lo = sdr.tx_lo                   # Frecuencia de recepción igual a la de TX\n",
    "sdr.rx_gain_control_mode = \"manual\"\n",
    "sdr.rx_hardwaregain = 78\n",
    "sdr.rx_rf_bandwidth = sdr.tx_rf_bandwidth\n",
    "sdr.rx_buffer_size = len(txSignal)\n",
    "\n",
    "# Transmisión continua\n",
    "sdr.tx_cyclic_buffer = True"
   ]
  },
  {
   "cell_type": "markdown",
   "id": "428cf32b",
   "metadata": {},
   "source": [
    "## Transmisión y recepción de la señal usando el SDR"
   ]
  },
  {
   "cell_type": "code",
   "execution_count": null,
   "id": "bc254a40",
   "metadata": {},
   "outputs": [],
   "source": [
    "# Cargar y transmitir la señal\n",
    "sdr.tx(txSignal * (2**14))  # Transmisión\n",
    "print(\"Transmisión iniciada...\")\n",
    "\n",
    "# Limpieza del buffer de recepción  \n",
    "for i in range(0, 10):\n",
    "    raw_data = sdr.rx()\n",
    "\n",
    "# Recepción\n",
    "rxSignal = sdr.rx()\n",
    "print(\"Recepción completa.\")\n",
    "\n",
    "# Normalización a potencia unitaria\n",
    "rxSignal /= np.sqrt(np.mean(np.abs(rxSignal)**2))\n",
    "\n",
    "# Cierre del dispositivo\n",
    "sdr.tx_destroy_buffer()  # Libera el buffer de transmisión"
   ]
  },
  {
   "cell_type": "markdown",
   "id": "9207ba1f",
   "metadata": {},
   "source": [
    "Se realiza la emisión y recepción de la señal con el SDR. Se tiene en cuenta:\n",
    "- Limpieza del buffer de recepcion: Se descartan las primeras 10 lecturas del receptor ya que el SDR puede tardar unos ciclos en estabilizarse.\n",
    "- Normalización de la potencia de la señal: Para asegurarnos de que la potencia de la señal esté dentro de un rango estandar, se la normaliza. Se calcula el modulo de cada muestra compleja (amplitud) para luego calcular la potencia promedio de la señal. Calculando la raiz cuadrada de la potencia promedio obtengo el valor RMS de la potencia. Dividiendo la señal receptada por su potencia en RMS, se obtiene la señal con potencia unitaria."
   ]
  },
  {
   "cell_type": "markdown",
   "id": "09be3487",
   "metadata": {},
   "source": [
    "### Gráfica de los resultados"
   ]
  },
  {
   "cell_type": "code",
   "execution_count": null,
   "id": "e1cb52e5",
   "metadata": {},
   "outputs": [],
   "source": [
    "# Señales I y Q separadas\n",
    "plt.figure(figsize=(10, 4))\n",
    "plt.subplot(2, 1, 1)\n",
    "plt.plot(np.real(rxSignal), label=\"En fase (I)\", color='blue')\n",
    "plt.title(\"Componente en fase (I)\")\n",
    "plt.xlabel(\"Muestras\")\n",
    "plt.ylabel(\"Amplitud\")\n",
    "plt.legend()\n",
    "plt.grid(True)\n",
    "\n",
    "plt.subplot(2, 1, 2)\n",
    "plt.plot(np.imag(rxSignal), label=\"En cuadratura (Q)\", color='red')\n",
    "plt.title(\"Componente en cuadratura (Q)\")\n",
    "plt.xlabel(\"Muestras\")\n",
    "plt.ylabel(\"Amplitud\")\n",
    "plt.legend()\n",
    "plt.grid(True)\n",
    "\n",
    "plt.tight_layout()\n",
    "plt.show()\n",
    "\n",
    "# Histogramas\n",
    "plt.figure(figsize=(10, 4))\n",
    "plt.subplot(1, 2, 1)\n",
    "plt.hist(np.real(rxSignal), bins=50, color='blue', alpha=0.7)\n",
    "plt.title(\"Histograma de componente I\")\n",
    "plt.grid(True)\n",
    "\n",
    "plt.subplot(1, 2, 2)\n",
    "plt.hist(np.imag(rxSignal), bins=50, color='red', alpha=0.7)\n",
    "plt.title(\"Histograma de componente Q\")\n",
    "plt.grid(True)\n",
    "\n",
    "plt.tight_layout()\n",
    "plt.show()"
   ]
  },
  {
   "cell_type": "markdown",
   "id": "8e508824",
   "metadata": {},
   "source": [
    "Respecto a la señal recibida en el dominio temporal, se observa que en una seccion inicial encontramos mucho ruido, probablemente en el preambulo o parte inestable de la transmisión. Luego, entre las muestras 4000 y 16000 la señal parece estable y con estructura repetitiva, lo cual indica que la transmisión fue captada correctamente.\n",
    "\n",
    "En los histogramas de las componenetes I y Q, se observan 2 picos en cada histograma, sugiriendo que se está recibiendo una modulación en cuadratura con 2 niveles, como QPSK, donde cada componente toma valores timicamente cercanos a {-1, +1}."
   ]
  },
  {
   "cell_type": "markdown",
   "id": "553d5c1a",
   "metadata": {},
   "source": [
    "## Transmisión con mayor potencia\n",
    "Repetimos los pasos anteriores pero aumentando la potencia de la señal transmitida, llevando el valor de la variable \"TxAtten\" al valor -70. "
   ]
  },
  {
   "cell_type": "code",
   "execution_count": null,
   "id": "10f27020",
   "metadata": {},
   "outputs": [],
   "source": [
    "sdr.tx_hardwaregain = -70               # Atenuación en TX [dB]\n",
    "\n",
    "sdr.tx(txSignal * (2**14))\n",
    "\n",
    "for i in range(0, 10):\n",
    "    raw_data = sdr.rx()\n",
    "\n",
    "rxSignal2 = sdr.rx()\n",
    "rxSignal2 /= np.sqrt(np.mean(np.abs(rxSignal2)**2))\n",
    "sdr.tx_destroy_buffer()\n",
    "\n",
    "plt.figure(figsize=(10, 4))\n",
    "plt.subplot(2, 1, 1)\n",
    "plt.plot(np.real(rxSignal), label=\"En fase (I)\", color='blue')\n",
    "plt.title(\"Componente en fase (I)\")\n",
    "plt.xlabel(\"Muestras\")\n",
    "plt.ylabel(\"Amplitud\")\n",
    "plt.legend()\n",
    "plt.grid(True)\n",
    "\n",
    "plt.subplot(2, 1, 2)\n",
    "plt.plot(np.imag(rxSignal), label=\"En cuadratura (Q)\", color='red')\n",
    "plt.title(\"Componente en cuadratura (Q)\")\n",
    "plt.xlabel(\"Muestras\")\n",
    "plt.ylabel(\"Amplitud\")\n",
    "plt.legend()\n",
    "plt.grid(True)\n",
    "\n",
    "plt.tight_layout()\n",
    "plt.show()\n",
    "\n",
    "plt.figure(figsize=(10, 4))\n",
    "plt.subplot(1, 2, 1)\n",
    "plt.hist(np.real(rxSignal2), bins=50, color='blue', alpha=0.7)\n",
    "plt.title(\"Histograma de componente I\")\n",
    "plt.grid(True)\n",
    "\n",
    "plt.subplot(1, 2, 2)\n",
    "plt.hist(np.imag(rxSignal2), bins=50, color='red', alpha=0.7)\n",
    "plt.title(\"Histograma de componente Q\")\n",
    "plt.grid(True)\n",
    "\n",
    "plt.tight_layout()\n",
    "plt.show()"
   ]
  },
  {
   "cell_type": "markdown",
   "id": "335eed5b",
   "metadata": {},
   "source": [
    "Analizando el grafico en el dominio temporal:\n",
    "- Antes, la señal recibida tenia menor amplitud, con componentes I y Q más comprimidos.\n",
    "- Ahora, se observa un leve aumento en la amplitud de la señal recibida. Esto es esperable ya que a menor atenuación, mayor potencia transmitida y mayor señal recibida.\n",
    "\n",
    "Por otro lado, analizando los histogramas, vemos que los picos se mantiene cercanos a los valores -1 y +1, sin modificarse demasiado su distribución al comparar las dos transmisiones."
   ]
  },
  {
   "cell_type": "markdown",
   "id": "eb68854e",
   "metadata": {},
   "source": [
    "## Transmisión con probabilidades a priori distintas"
   ]
  },
  {
   "cell_type": "markdown",
   "id": "acf5f0ee",
   "metadata": {},
   "source": [
    "Configuramos el valor de la variable red a un valor 0.3 y repitiendo los pasos anteriores analizamos y comparamos los resultados obtenidos:"
   ]
  },
  {
   "cell_type": "code",
   "execution_count": null,
   "id": "aad35f2f",
   "metadata": {},
   "outputs": [],
   "source": [
    "ref = 0.3\n",
    "\n",
    "z = np.random.uniform(size=nb_samples)\n",
    "x = [1 if z[i]>ref else 0 for i in range(len(z))] \n",
    "txSignal3 = (2*np.repeat(x, 2**4)-1)+1j*(2*np.repeat(x, 2**4)-1) \n",
    "\n",
    "sdr.tx_hardwaregain = -79\n",
    "\n",
    "sdr.tx(txSignal3 * (2**14))\n",
    "\n",
    "for i in range(0, 10):\n",
    "    raw_data = sdr.rx()\n",
    "\n",
    "rxSignal3 = sdr.rx()\n",
    "rxSignal3 /= np.sqrt(np.mean(np.abs(rxSignal3)**2))\n",
    "sdr.tx_destroy_buffer()\n",
    "\n",
    "plt.figure(figsize=(10, 4))\n",
    "plt.subplot(2, 1, 1)\n",
    "plt.plot(np.real(rxSignal), label=\"En fase (I)\", color='blue')\n",
    "plt.title(\"Componente en fase (I)\")\n",
    "plt.xlabel(\"Muestras\")\n",
    "plt.ylabel(\"Amplitud\")\n",
    "plt.legend()\n",
    "plt.grid(True)\n",
    "\n",
    "plt.subplot(2, 1, 2)\n",
    "plt.plot(np.imag(rxSignal), label=\"En cuadratura (Q)\", color='red')\n",
    "plt.title(\"Componente en cuadratura (Q)\")\n",
    "plt.xlabel(\"Muestras\")\n",
    "plt.ylabel(\"Amplitud\")\n",
    "plt.legend()\n",
    "plt.grid(True)\n",
    "\n",
    "plt.tight_layout()\n",
    "plt.show()\n",
    "\n",
    "plt.figure(figsize=(10, 4))\n",
    "plt.subplot(1, 2, 1)\n",
    "plt.hist(np.real(rxSignal3), bins=50, color='blue', alpha=0.7)\n",
    "plt.title(\"Histograma de componente I\")\n",
    "plt.grid(True)\n",
    "\n",
    "plt.subplot(1, 2, 2)\n",
    "plt.hist(np.imag(rxSignal3), bins=50, color='red', alpha=0.7)\n",
    "plt.title(\"Histograma de componente Q\")\n",
    "plt.grid(True)\n",
    "\n",
    "plt.tight_layout()\n",
    "plt.show()"
   ]
  },
  {
   "cell_type": "markdown",
   "id": "5ded2a13",
   "metadata": {},
   "source": [
    "La señal recibida en el dominio temporal manteine las amplitudes similares a transmisiones anteriores. Visualmente, parece que hay mas repeticiones de ciertos niveles, lo que puede indicar que uno de los simbolos se está transmitiendo con mayor frecuencia. \n",
    "\n",
    "Analizando loas histogramas, antes teniamos dos picos aproximadamente simetricos. Ahora, los picos entorno a -1 y +1 tienen amplitudes desiguales. Esto significa que los valores de las componentes tienden a concentrarse más en una region, lo cual indica que se transmite mas frecuentemente el simbolo correspondiente a ese nivel de amplitud.\n",
    "\n",
    "Cuando la probabilidad de transmision de cada bit es distinta, los histogramas resultan asimetricos y tendremos menor entropía en la fuente de información ya que un simbolo domina."
   ]
  },
  {
   "cell_type": "markdown",
   "id": "b088073b",
   "metadata": {},
   "source": [
    "# Transmision de señal no binaria"
   ]
  },
  {
   "cell_type": "markdown",
   "id": "881d945e",
   "metadata": {},
   "source": [
    "Definimos ahora la señal de manera que transmita una hipotesis H que pertenexca al conjunto {-1, -0.3333, +0.3333, +1} con igual probabilidades. Se repiten los pasos de transmision y recepcion para comprar los resultados con las transmisiones anteriores."
   ]
  },
  {
   "cell_type": "code",
   "execution_count": null,
   "id": "b01221fb",
   "metadata": {},
   "outputs": [],
   "source": [
    "x = np.array([-1, -0.3333, 0.3333, 1])\n",
    "nb_samples = 10\n",
    "\n",
    "I = np.random.choice(x, nb_samples, p=[0.25, 0.25, 0.25, 0.25])  # Generar parte real aleatoria con igual probabilidad\n",
    "Q = np.random.choice(x, nb_samples, p=[0.25, 0.25, 0.25, 0.25])  # Generar parte imaginaria aleatoria con igual probabilidad\n",
    "\n",
    "txSignal4 = I + 1j*Q  # Señal transmitida\n",
    "\n",
    "sdr.tx(txSignal4 * (2**14))\n",
    "\n",
    "for i in range(0, 10):\n",
    "    raw_data = sdr.rx()\n",
    "\n",
    "rxSignal4 = sdr.rx()\n",
    "rxSignal4 /= np.sqrt(np.mean(np.abs(rxSignal4)**2))\n",
    "sdr.tx_destroy_buffer()\n",
    "\n",
    "plt.figure(figsize=(10, 4))\n",
    "plt.subplot(2, 1, 1)\n",
    "plt.plot(np.real(rxSignal), label=\"En fase (I)\", color='blue')\n",
    "plt.title(\"Componente en fase (I)\")\n",
    "plt.xlabel(\"Muestras\")\n",
    "plt.ylabel(\"Amplitud\")\n",
    "plt.legend()\n",
    "plt.grid(True)\n",
    "\n",
    "plt.subplot(2, 1, 2)\n",
    "plt.plot(np.imag(rxSignal), label=\"En cuadratura (Q)\", color='red')\n",
    "plt.title(\"Componente en cuadratura (Q)\")\n",
    "plt.xlabel(\"Muestras\")\n",
    "plt.ylabel(\"Amplitud\")\n",
    "plt.legend()\n",
    "plt.grid(True)\n",
    "\n",
    "plt.tight_layout()\n",
    "plt.show()\n",
    "\n",
    "plt.figure(figsize=(10, 4))\n",
    "plt.subplot(1, 2, 1)\n",
    "plt.hist(np.real(rxSignal4), bins=50, color='blue', alpha=0.7)\n",
    "plt.title(\"Histograma de componente I\")\n",
    "plt.grid(True)\n",
    "\n",
    "plt.subplot(1, 2, 2)\n",
    "plt.hist(np.imag(rxSignal4), bins=50, color='red', alpha=0.7)\n",
    "plt.title(\"Histograma de componente Q\")\n",
    "plt.grid(True)\n",
    "\n",
    "plt.tight_layout()\n",
    "plt.show()\n"
   ]
  },
  {
   "cell_type": "markdown",
   "id": "7c4bbf66",
   "metadata": {},
   "source": [
    "En las graficas temporales de la señal recibida es posible ver que ahora la señal no llega a valer 0 si no un valor cercano (-0.3333 y +0.3333) en cada cambio de valor trasnmitido. Hay presencia de ruido pero aun puede distinguirse claramente los niveles.\n",
    "\n",
    "Respecto a los histogramas, ahora no tenemos dos picos pronunciados en -1 y +1, sino cuatro ubicados aproximadamente en -1, -0.3333, 0.3333 y 1. La altura de los picos es similar, indicando que los simbolos tienen igual probabilidad. La forma de cada pico sigue una distribucion tipo gaussiana debido al ruido aditivo."
   ]
  }
 ],
 "metadata": {
  "kernelspec": {
   "display_name": "Python 3",
   "language": "python",
   "name": "python3"
  },
  "language_info": {
   "codemirror_mode": {
    "name": "ipython",
    "version": 3
   },
   "file_extension": ".py",
   "mimetype": "text/x-python",
   "name": "python",
   "nbconvert_exporter": "python",
   "pygments_lexer": "ipython3",
   "version": "3.12.5"
  }
 },
 "nbformat": 4,
 "nbformat_minor": 5
}
