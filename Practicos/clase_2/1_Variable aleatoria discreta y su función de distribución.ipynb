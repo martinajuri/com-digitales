{
 "cells": [
  {
   "cell_type": "code",
   "execution_count": 1,
   "metadata": {},
   "outputs": [
    {
     "name": "stdout",
     "output_type": "stream",
     "text": [
      "La probabilidad de que la suma sea menor a 1 es: 0.12441244124412441\n",
      "La probabilidad de que la suma sea menor a 2 es: 0.5047504750475047\n",
      "La probabilidad de que la suma sea menor a 3 es: 0.8821882188218821\n"
     ]
    }
   ],
   "source": [
    "import random\n",
    "import numpy as np\n",
    "import matplotlib.pyplot as plt\n",
    "\n",
    "Na = 0\n",
    "Nb = 0\n",
    "Nc = 0\n",
    "\n",
    "veces = 10000\n",
    "\n",
    "moneda1 = np.zeros(veces)\n",
    "moneda2 = np.zeros(veces)\n",
    "moneda3 = np.zeros(veces)\n",
    "\n",
    "for N in range(veces):\n",
    "    moneda1[N] = random.randint(0,1)\n",
    "    moneda2[N] = random.randint(0,1)\n",
    "    moneda3[N] = random.randint(0,1)\n",
    "\n",
    "    suma = moneda1[N] + moneda2[N] + moneda3[N]\n",
    "    if suma < 1:\n",
    "        Na+=1 \n",
    "    if suma < 2:\n",
    "        Nb+=1\n",
    "    if suma < 3:\n",
    "        Nc+=1\n",
    "\n",
    "Pa= Na/N\n",
    "Pb= Nb/N\n",
    "Pc= Nc/N\n",
    "\n",
    "print('La probabilidad de que la suma sea menor a 1 es:',Pa)\n",
    "print('La probabilidad de que la suma sea menor a 2 es:',Pb)\n",
    "print('La probabilidad de que la suma sea menor a 3 es:',Pc)\n"
   ]
  },
  {
   "cell_type": "code",
   "execution_count": 10,
   "metadata": {},
   "outputs": [
    {
     "name": "stdout",
     "output_type": "stream",
     "text": [
      "Grafico de probabilidad acumulada en escalones unitarios\n"
     ]
    },
    {
     "data": {
      "image/png": "[encoded data removed]",
      "text/plain": [
       "<Figure size 640x480 with 1 Axes>"
      ]
     },
     "metadata": {},
     "output_type": "display_data"
    }
   ],
   "source": [
    "print('Grafico de probabilidad acumulada en escalones unitarios')\n",
    "plt.plot([0,1,2,3,4],[Pa, Pb, Pc, 1,1], drawstyle='steps-post')\n",
    "plt.show()"
   ]
  }
 ],
 "metadata": {
  "kernelspec": {
   "display_name": "Python 3",
   "language": "python",
   "name": "python3"
  },
  "language_info": {
   "codemirror_mode": {
    "name": "ipython",
    "version": 3
   },
   "file_extension": ".py",
   "mimetype": "text/x-python",
   "name": "python",
   "nbconvert_exporter": "python",
   "pygments_lexer": "ipython3",
   "version": "3.13.0"
  }
 },
 "nbformat": 4,
 "nbformat_minor": 2
}
