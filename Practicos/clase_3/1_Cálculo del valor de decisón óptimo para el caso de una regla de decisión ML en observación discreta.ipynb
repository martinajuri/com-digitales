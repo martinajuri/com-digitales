{
 "cells": [
  {
   "cell_type": "markdown",
   "metadata": {},
   "source": [
    "## Análisis cuantitativo para la determinación del nivel de decisión: Regla de decisión de Máxima Verosimilitud.\n",
    "Para el caso de hipótesis (H) equiprobables y observaciones (Y) discretas (que es el caso de nuestro ejemplo), la regla de decisión de máxima verosimilitud (del inglés Maximum Likelihood decision Rule) o ML, establece que la hipótesis transmitida más probable dada la observación Y en un instante de tiempo dado es aquella que cumple con la siguiente relación:\n",
    "\n",
    "$\\hat{H}(y)=  \\underset{i\\in \\mathcal{H}}{\\operatorname{argmax}} P_{Y|H}(y|i)$\n",
    "\n",
    "Para el caso de test de hipótesis binaria (que es el caso de nuestro ejemplo) la regla de decisión ML queda simplificada a la siguiente expresión:\n",
    "\n",
    "$P_{Y|H}(y|1)\\overset{\\hat{H}=1}{\\underset{\\hat{H}=0}\\gtreqless}P_{Y|H}(y|0)$\n",
    "\n",
    "Si reemplazamos en esta relación a $P_{Y|H}(y|1)$ por $\\frac{λ_1^y}{y!}e^{-λ_1}$ y a $P_{Y|H}(y|0)$ por $\\frac{λ_0^y}{y!}e^{-λ_0}$ y utilizando las intensidades $λ_1=3$ y $λ_0=1$ se obtiene la siguiente inecuación:\n",
    "\n",
    "$y\\overset{\\hat{H}=1}{\\underset{\\hat{H}=0}\\gtreqless}1.8$\n",
    "\n",
    "la cual nos está indicando que en teoría, el nivel de decisión del receptor debe estar ubicado un valor igual 1.8. Este resultado es coherente con el resultado obtenido en nuestro análisis cualitativo previo del problema.\n"
   ]
  }
 ],
 "metadata": {
  "language_info": {
   "name": "python"
  }
 },
 "nbformat": 4,
 "nbformat_minor": 2
}
