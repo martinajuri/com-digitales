{
 "cells": [
  {
   "cell_type": "code",
   "execution_count": 1,
   "metadata": {},
   "outputs": [
    {
     "name": "stdout",
     "output_type": "stream",
     "text": [
      "Error ML (q=0.6, p=0.3): 0.2989\n",
      "Error ML (q=0.5, p=0.3): 0.2987\n",
      "Error ML óptimo (q=0.5, p=0.05): 0.0488\n"
     ]
    }
   ],
   "source": [
    "import numpy as np\n",
    "\n",
    "def monte_carlo_bsc(q, p, N=100000):\n",
    "    bits_transmitidos = np.random.choice([0, 1], size=N, p=[q, 1 - q])\n",
    "\n",
    "    ruido = np.random.choice([0, 1], size=N, p=[1 - p, p])\n",
    "    bits_recibidos = np.bitwise_xor(bits_transmitidos, ruido)\n",
    "\n",
    "    return bits_transmitidos, bits_recibidos\n",
    "\n",
    "def regla_ml(q, p, bits_recibidos):\n",
    "    if q == 0.5:\n",
    "        decision = bits_recibidos\n",
    "    else:\n",
    "        decision = np.where(bits_recibidos == 0, 0 if q > 0.5 else 1, 1 if q > 0.5 else 0)\n",
    "\n",
    "    return decision\n",
    "\n",
    "def calcular_error(bits_transmitidos, decision):\n",
    "    errores = np.sum(bits_transmitidos != decision)\n",
    "    return errores / len(bits_transmitidos)\n",
    "\n",
    "\n",
    "q1, p1 = 0.6, 0.3\n",
    "bits_tx1, bits_rx1 = monte_carlo_bsc(q1, p1)\n",
    "decision_ml1 = regla_ml(q1, p1, bits_rx1)\n",
    "error_ml1 = calcular_error(bits_tx1, decision_ml1)\n",
    "print(f\"Error ML (q=0.6, p=0.3): {error_ml1:.4f}\")\n",
    "\n",
    "q2, p2 = 0.5, 0.3\n",
    "bits_tx2, bits_rx2 = monte_carlo_bsc(q2, p2)\n",
    "decision_ml2 = regla_ml(q2, p2, bits_rx2)\n",
    "error_ml2 = calcular_error(bits_tx2, decision_ml2)\n",
    "print(f\"Error ML (q=0.5, p=0.3): {error_ml2:.4f}\")\n",
    "\n",
    "q4, p4 = 0.5, 0.05\n",
    "bits_tx4, bits_rx4 = monte_carlo_bsc(q4, p4)\n",
    "decision_ml4 = regla_ml(q4, p4, bits_rx4)\n",
    "error_ml4 = calcular_error(bits_tx4, decision_ml4)\n",
    "print(f\"Error ML óptimo (q=0.5, p=0.05): {error_ml4:.4f}\")\n"
   ]
  }
 ],
 "metadata": {
  "kernelspec": {
   "display_name": "Python 3",
   "language": "python",
   "name": "python3"
  },
  "language_info": {
   "codemirror_mode": {
    "name": "ipython",
    "version": 3
   },
   "file_extension": ".py",
   "mimetype": "text/x-python",
   "name": "python",
   "nbconvert_exporter": "python",
   "pygments_lexer": "ipython3",
   "version": "3.13.0"
  }
 },
 "nbformat": 4,
 "nbformat_minor": 2
}
