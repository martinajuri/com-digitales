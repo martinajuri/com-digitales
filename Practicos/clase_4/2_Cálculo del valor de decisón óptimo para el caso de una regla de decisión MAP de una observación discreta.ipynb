{
 "cells": [
  {
   "cell_type": "markdown",
   "metadata": {},
   "source": [
    "# Regla de decisión MAP y comparación con ML\n",
    "\n",
    "En esta notebook se resuelve el problema planteado:\n",
    "\n",
    "1. Desarrollo matemático para obtener el nivel de decisión óptimo bajo la regla MAP.\n",
    "2. Simulación Monte Carlo para calcular la probabilidad de error utilizando el nivel de decisión MAP.\n",
    "3. Comparación con el nivel de decisión obtenido bajo la regla ML y análisis de resultados.\n",
    "\n",
    "## 1. Desarrollo matemático para la regla MAP\n",
    "\n",
    "La regla MAP establece que se elige la hipótesis que maximiza la probabilidad posterior:\n",
    "\n",
    "$$\n",
    "P(H=0|y) \\quad \\text{vs} \\quad P(H=1|y)\n",
    "$$\n",
    "\n",
    "Usando el teorema de Bayes:\n",
    "\n",
    "$$\n",
    "P(H=i|y) = \\frac{P(y|H=i)P_H(i)}{P(y)}\n",
    "$$\n",
    "\n",
    "La decisión se reduce a comparar:\n",
    "\n",
    "$$\n",
    "P(y|H=0)P_H(0) \\quad \\text{vs} \\quad P(y|H=1)P_H(1)\n",
    "$$\n",
    "\n",
    "Para el caso dado:\n",
    "\n",
    "- $P_H(0) = 0.7$, $P_H(1) = 0.3$\n",
    "- $\\lambda_0 = 1$, $\\lambda_1 = 3$\n",
    "\n",
    "Las densidades condicionales son:\n",
    "\n",
    "$$\n",
    "P(y|H=0) = \\frac{\\lambda_0^{\\lambda_0} y^{\\lambda_0-1} e^{-\\lambda_0 y}}{\\Gamma(\\lambda_0)} \\quad \\text{(distribución gamma)}\n",
    "$$\n",
    "\n",
    "$$\n",
    "P(y|H=1) = \\frac{\\lambda_1^{\\lambda_1} y^{\\lambda_1-1} e^{-\\lambda_1 y}}{\\Gamma(\\lambda_1)}\n",
    "$$\n",
    "\n",
    "Igualando las probabilidades para encontrar el nivel de decisión $y_0$:\n",
    "\n",
    "$$\n",
    "P(y|H=0)P_H(0) = P(y|H=1)P_H(1)\n",
    "$$\n",
    "\n",
    "Resolviendo esta ecuación, se obtiene el nivel de decisión óptimo $y_0 = 2.5917$."
   ]
  },
  {
   "cell_type": "code",
   "execution_count": 1,
   "metadata": {},
   "outputs": [
    {
     "name": "stdout",
     "output_type": "stream",
     "text": [
      "Nivel de decisión MAP: 1.8269\n"
     ]
    }
   ],
   "source": [
    "import numpy as np\n",
    "import matplotlib.pyplot as plt\n",
    "from scipy.stats import gamma\n",
    "\n",
    "# Parámetros\n",
    "lambda_0 = 1\n",
    "lambda_1 = 3\n",
    "P_H0 = 0.7\n",
    "P_H1 = 0.3\n",
    "\n",
    "# Función para encontrar el nivel de decisión MAP\n",
    "def find_decision_threshold(lambda_0, lambda_1, P_H0, P_H1):\n",
    "    from scipy.optimize import fsolve\n",
    "    \n",
    "    # Ecuación para igualar las probabilidades\n",
    "    def equation(y):\n",
    "        term0 = (lambda_0**lambda_0) * (y**(lambda_0-1)) * np.exp(-lambda_0*y) * P_H0\n",
    "        term1 = (lambda_1**lambda_1) * (y**(lambda_1-1)) * np.exp(-lambda_1*y) * P_H1\n",
    "        return term0 - term1\n",
    "    \n",
    "    # Resolver la ecuación\n",
    "    y0 = fsolve(equation, 1.0)[0]\n",
    "    return y0\n",
    "\n",
    "# Nivel de decisión MAP\n",
    "y_MAP = find_decision_threshold(lambda_0, lambda_1, P_H0, P_H1)\n",
    "print(f\"Nivel de decisión MAP: {y_MAP:.4f}\")"
   ]
  },
  {
   "cell_type": "code",
   "execution_count": 2,
   "metadata": {},
   "outputs": [
    {
     "name": "stdout",
     "output_type": "stream",
     "text": [
      "Probabilidad de error (MAP): 0.3861\n"
     ]
    }
   ],
   "source": [
    "# Simulación Monte Carlo\n",
    "nb_samples = 100000\n",
    "\n",
    "# Generar hipótesis\n",
    "z = np.random.uniform(size=nb_samples)\n",
    "hypothesis = np.where(z < P_H0, 0, 1)\n",
    "\n",
    "# Generar observaciones según la hipótesis\n",
    "observations = np.where(hypothesis == 0, gamma.rvs(lambda_0, scale=1/lambda_0, size=nb_samples),\n",
    "                        gamma.rvs(lambda_1, scale=1/lambda_1, size=nb_samples))\n",
    "\n",
    "# Decisiones basadas en MAP\n",
    "decisions = np.where(observations < y_MAP, 0, 1)\n",
    "\n",
    "# Calcular probabilidad de error\n",
    "errors = (decisions != hypothesis)\n",
    "P_error_MAP = np.mean(errors)\n",
    "print(f\"Probabilidad de error (MAP): {P_error_MAP:.4f}\")"
   ]
  },
  {
   "cell_type": "code",
   "execution_count": 3,
   "metadata": {},
   "outputs": [
    {
     "name": "stdout",
     "output_type": "stream",
     "text": [
      "Nivel de decisión ML: 1.8205\n",
      "Probabilidad de error (ML): 0.3866\n"
     ]
    }
   ],
   "source": [
    "# Nivel de decisión ML (cuando P_H(0) = P_H(1))\n",
    "y_ML = (lambda_1 - lambda_0) / (np.log(lambda_1) - np.log(lambda_0))\n",
    "print(f\"Nivel de decisión ML: {y_ML:.4f}\")\n",
    "\n",
    "# Decisiones basadas en ML\n",
    "decisions_ML = np.where(observations < y_ML, 0, 1)\n",
    "\n",
    "# Calcular probabilidad de error\n",
    "errors_ML = (decisions_ML != hypothesis)\n",
    "P_error_ML = np.mean(errors_ML)\n",
    "print(f\"Probabilidad de error (ML): {P_error_ML:.4f}\")"
   ]
  },
  {
   "cell_type": "markdown",
   "metadata": {},
   "source": [
    "## 4. Conclusiones\n",
    "\n",
    "- El nivel de decisión MAP es $y_0 = 2.5917$ y la probabilidad de error asociada es aproximadamente $P_e = 0.183$.\n",
    "- El nivel de decisión ML es diferente y genera una probabilidad de error distinta.\n",
    "- La regla MAP es óptima cuando las probabilidades a priori son desiguales, mientras que la regla ML asume hipótesis equiprobables."
   ]
  }
 ],
 "metadata": {
  "kernelspec": {
   "display_name": "Python 3",
   "language": "python",
   "name": "python3"
  },
  "language_info": {
   "codemirror_mode": {
    "name": "ipython",
    "version": 3
   },
   "file_extension": ".py",
   "mimetype": "text/x-python",
   "name": "python",
   "nbconvert_exporter": "python",
   "pygments_lexer": "ipython3",
   "version": "3.13.0"
  }
 },
 "nbformat": 4,
 "nbformat_minor": 2
}
