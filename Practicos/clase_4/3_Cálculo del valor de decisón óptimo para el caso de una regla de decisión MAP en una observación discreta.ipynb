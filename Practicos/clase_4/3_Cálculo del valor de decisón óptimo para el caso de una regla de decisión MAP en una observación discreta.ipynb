{
 "cells": [
  {
   "cell_type": "markdown",
   "id": "ba13f383",
   "metadata": {},
   "source": [
    " Suponga que se transmite un símbolo binario  $A \\in \\{ 0,1 \\}$  con probabilidades a priori $ P_A(0)=q$  y $ P_A(1) =1-q$  a través de un canal BSC. La observación   $Y \\in \\{ 0, 1 \\}$  también es binaria e igual a A con probabilidad  1-p ."
   ]
  },
  {
   "cell_type": "code",
   "execution_count": null,
   "id": "063ab76c",
   "metadata": {},
   "outputs": [],
   "source": [
    "import numpy as np\n",
    "import matplotlib.pyplot as plt"
   ]
  },
  {
   "cell_type": "markdown",
   "id": "6ad21d0b",
   "metadata": {},
   "source": [
    "1. Encuentre cualitativamente la regla de decisión MAP para el caso de  q= 0.9  y  p= 0.2 .\n",
    "2. Encuentre cualitativamente la regla de decisión MAP para el caso de  q= 0.5  y  p= 0.3 .\n",
    "\n"
   ]
  },
  {
   "cell_type": "markdown",
   "id": "ab900d92",
   "metadata": {},
   "source": [
    "Para el canal BSC, las probabilidades condicionales son:\n",
    "\n",
    "- **Si $ A = 0 $:**\n",
    "  - $ P(Y = 0\\mid A = 0) = 1 - p $\n",
    "  - $ P(Y = 1\\mid A = 0) = p $\n",
    "\n",
    "- **Si $ A = 1 $:**\n",
    "  - $ P(Y = 1\\mid A = 1) = 1 - p $\n",
    "  - $ P(Y = 0\\mid A = 1) = p $\n",
    "\n",
    "---\n",
    "\n",
    "### Evaluación en Dos Casos\n",
    "\n",
    "#### Caso 1: $ q = 0.9$ y $ p = 0.1$\n",
    "\n",
    "**Probabilidades a priori:**\n",
    "- $ P_A(0) = 0.9 $\n",
    "- $ P_A(1) = 0.1 $\n",
    "\n",
    "**Cálculo de los productos $ P(Y=y | A=a), P_A(a) $:**\n",
    "\n",
    "- **Para $ y = 0 $:**\n",
    "  - Si $ A = 0 $:\n",
    "    \\[\n",
    "    $P(Y=0 \\mid A=0) \\cdot P_A(0) = (1 - 0.2) \\times 0.9 = 0.8 \\times 0.9 $= 0.72\n",
    "    \\]\n",
    "  - Si $ A = 1 $:\n",
    "    \\[\n",
    "    $P(Y=0 \\mid A=1) \\cdot P_A(1) = 0.2 \\times 0.1 = 0.02.$\n",
    "    \\]\n",
    "  - **Decisión:** Se decide **$ A = 0 $** al observar $ y = 0 $ porque $ 0.72 > 0.02 $.\n",
    "\n",
    "- **Para $ y = 1 $:**\n",
    "  - Si $ A = 0 $:\n",
    "    \\[\n",
    "    $P(Y=1 \\mid A=0) \\cdot P_A(0) = 0.2 \\times 0.9$ = 0.18.\n",
    "    \\]\n",
    "  - Si $ A = 1 $:\n",
    "    \\[\n",
    "    $P(Y=1 \\mid A=1) \\cdot P_A(1) = 0.8 \\times 0.1$ = 0.08.\n",
    "    \\]\n",
    "  - **Decisión:** Se decide **$ A = 0 $** al observar $ y = 1 $ porque $ 0.18 > 0.08 $.\n",
    "\n",
    "\n",
    "#### Caso 2: $ q = 0.5$ y $ p = 0.3$\n",
    "\n",
    "**Probabilidades a priori:**\n",
    "- $ P_A(0)= 0.5 $\n",
    "- $ P_A(1)= 0.5 $\n",
    "\n",
    "**Cálculo de los productos $ P(Y=y \\mid A=a) \\, P_A(a) $:**\n",
    "\n",
    "- **Para $ y = 0 $:**\n",
    "  - Si $ A = 0 $:\n",
    "    \\[\n",
    "    $P(Y=0 \\mid A=0) \\cdot P_A(0) = (1 - 0.3) \\times 0.5 = 0.7 \\times 0.5$ = 0.35.\n",
    "    \\]\n",
    "  - Si $ A = 1 $:\n",
    "    \\[\n",
    "    $P(Y=0 \\mid A=1) \\cdot P_A(1) = 0.3 \\times 0.5$ = 0.15.\n",
    "    \\]\n",
    "  - **Decisión:** Se decide **$ A = 0 $** al observar $ y = 0 $ porque $ 0.35 > 0.15 $.\n",
    "\n",
    "- **Para $ y = 1 $:**\n",
    "  - Si $ A = 0 $:\n",
    "    \\[\n",
    "    $P(Y=1 \\mid A=0) \\cdot P_A(0) = 0.3 \\times 0.5$ = 0.15.\n",
    "    \\]\n",
    "  - Si $ A = 1 $:\n",
    "    \\[\n",
    "    $P(Y=1 \\mid A=1) \\cdot P_A(1) = (1 - 0.3) \\times 0.5 = 0.7 \\times 0.5$ = 0.35.\n",
    "    \\]\n",
    "  - **Decisión:** Se decide **$ A = 1 $** al observar $ y = 1 $ porque $ 0.35 > 0.15 $.\n",
    "\n",
    "\n",
    "\n"
   ]
  },
  {
   "cell_type": "markdown",
   "id": "5802a3bc",
   "metadata": {},
   "source": [
    "- Conclusiones\n",
    "- Caso 1: La información tiende al símbolo 0, de modo que el receptor decide A=0 para ambos valores de 𝑦\n",
    "\n",
    "- Caso 2: La informacion tiende a tener similitud con el criterio de decision ML ya que si y=0, A=0 y si y=1, A=1\n"
   ]
  },
  {
   "cell_type": "markdown",
   "id": "ea1976b2",
   "metadata": {},
   "source": [
    "3. A diferencia del caso ML, si suma todas las barras del histograma obtenido no van a obtener como resultado 1. Puede intuir a que se debe?\n"
   ]
  },
  {
   "cell_type": "markdown",
   "id": "d1e2be10",
   "metadata": {},
   "source": [
    "Esto se debe a que el producto $P(y \\mid A=a)P_A(a)$ no esta normalizado. Para que la suma de todas las barras del histograma den 1 el producto se debe normalizar dividiendolo por $P(y)$"
   ]
  },
  {
   "cell_type": "markdown",
   "id": "4ca03323",
   "metadata": {},
   "source": [
    "4. En cual de los casos (punto 1 o punto 2) esta regla de decisión es óptima? dicho en otras palabras, cuando esta regla de decisión produce la minima probabilidad de error?"
   ]
  },
  {
   "cell_type": "markdown",
   "id": "d80f545d",
   "metadata": {},
   "source": [
    "En el caso 1 debido a que las probabilidades son distintas por lo tanto la regla de MAP tiende a tener un menor error debido a que esta diseñada para eso, a diferencia del caso 2 donde tenemos unas probabilidades que se tratan mejor con la regla ML"
   ]
  },
  {
   "cell_type": "markdown",
   "id": "90871253",
   "metadata": {},
   "source": [
    "5. Realice y adjunte la simulación Monte Carlo del problema."
   ]
  },
  {
   "cell_type": "code",
   "execution_count": 1,
   "id": "19d25c11",
   "metadata": {},
   "outputs": [
    {
     "name": "stdout",
     "output_type": "stream",
     "text": [
      "Caso 1 (q=0.9, p=0.2, siempre decide 0):\n",
      "   Probabilidad de error estimada: 0.10074\n",
      "\n",
      "Caso 2 (q=0.5, p=0.3, decide según Y):\n",
      "   Probabilidad de error estimada: 0.29977\n"
     ]
    }
   ],
   "source": [
    "import numpy as np\n",
    "\n",
    "# Número de ensayos para la simulación\n",
    "N = 100000\n",
    "\n",
    "def señal(q, p, decision):\n",
    "    # Generar la secuencia de bits transmitidos\n",
    "    A = np.random.choice([0, 1], size=N, p=[q, 1-q])\n",
    "    \n",
    "    # Simular el canal BSC: \n",
    "    # Con probabilidad 1-p se recibe el símbolo correcto, con probabilidad p se \"invierte\"\n",
    "    ruido = np.random.rand(N)\n",
    "    Y = np.where(ruido < (1-p), A, 1-A)\n",
    "    \n",
    "    # Aplicar la regla de decisión\n",
    "    A_hat = np.array([decision(y) for y in Y])\n",
    "    \n",
    "    # Calcular la tasa de error\n",
    "    error = np.mean(A_hat != A)\n",
    "    return error, A, Y, A_hat\n",
    "\n",
    "# Caso 1: q = 0.9, p = 0.2  \n",
    "# La regla MAP encontrada es: se decide 0 para cualquier valor de Y.\n",
    "def decision_map_caso1(y):\n",
    "    return 0\n",
    "\n",
    "# Caso 2: q = 0.5, p = 0.3  \n",
    "# La regla MAP (y ML) para este caso es: si y=0, decide 0; si y=1, decide 1.\n",
    "def decision_map_caso2(y):\n",
    "    return y\n",
    "\n",
    "# Simulación para caso 1:\n",
    "error1, A1, Y1, Ahat1 = señal(q=0.9, p=0.2, decision=decision_map_caso1)\n",
    "\n",
    "# Simulación para caso 2:\n",
    "error2, A2, Y2, Ahat2 = señal(q=0.5, p=0.3, decision=decision_map_caso2)\n",
    "\n",
    "print(\"Caso 1 (q=0.9, p=0.2, siempre decide 0):\")\n",
    "print(\"   Probabilidad de error estimada:\", error1)\n",
    "print()\n",
    "print(\"Caso 2 (q=0.5, p=0.3, decide según Y):\")\n",
    "print(\"   Probabilidad de error estimada:\", error2)"
   ]
  }
 ],
 "metadata": {
  "kernelspec": {
   "display_name": "Python 3",
   "language": "python",
   "name": "python3"
  },
  "language_info": {
   "codemirror_mode": {
    "name": "ipython",
    "version": 3
   },
   "file_extension": ".py",
   "mimetype": "text/x-python",
   "name": "python",
   "nbconvert_exporter": "python",
   "pygments_lexer": "ipython3",
   "version": "3.13.0"
  }
 },
 "nbformat": 4,
 "nbformat_minor": 5
}
