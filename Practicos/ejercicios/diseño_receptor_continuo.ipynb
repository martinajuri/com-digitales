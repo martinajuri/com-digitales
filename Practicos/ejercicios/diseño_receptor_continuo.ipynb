{
 "cells": [
  {
   "cell_type": "markdown",
   "id": "7675c8d8",
   "metadata": {},
   "source": [
    "Calcular el valor de la norma de la señal ||\\alpha_{1} (t)|| integrando entre 1 y 2:\n",
    "\\alpha_{1} (t) = -2 t+4"
   ]
  },
  {
   "cell_type": "code",
   "execution_count": 3,
   "id": "8c9bb6c9",
   "metadata": {},
   "outputs": [
    {
     "name": "stdout",
     "output_type": "stream",
     "text": [
      "El valor de la norma de la señal es: 1.15470053837925\n"
     ]
    }
   ],
   "source": [
    "import sympy as sp\n",
    "\n",
    "# Definir la variable simbólica y la función\n",
    "t = sp.Symbol('t')\n",
    "alpha_1 = -2 * t + 4\n",
    "\n",
    "# Calcular la norma de la señal ||alpha_1(t)||^2 integrando el cuadrado de la función\n",
    "norma_cuadrada = sp.integrate(alpha_1**2, (t, 1, 2))\n",
    "\n",
    "# Obtener la raíz cuadrada para la norma\n",
    "norma = sp.sqrt(norma_cuadrada)\n",
    "\n",
    "# Convertir la norma a una forma numérica\n",
    "norma = norma.evalf()\n",
    "\n",
    "# Mostrar el resultado\n",
    "print(f\"El valor de la norma de la señal es: {norma}\")"
   ]
  },
  {
   "cell_type": "markdown",
   "id": "274bf991",
   "metadata": {},
   "source": [
    "A través del procedimiento de Gram-Schmidt de ortonormalización encontrar una base ortonormal para el espacio generado por los vectores \n",
    "\n",
    " \\alpha_1=(1,0,1,1)^T  , \\alpha_2=(2,1,0,1)^T  , \\alpha_3=(1,0,1,-2)^T  y  \\alpha_4=(2,0,2,-1)^T  "
   ]
  },
  {
   "cell_type": "code",
   "execution_count": 4,
   "id": "df3caf65",
   "metadata": {},
   "outputs": [
    {
     "name": "stdout",
     "output_type": "stream",
     "text": [
      "Base ortonormal:\n",
      "u_1 = [0.5774 0.     0.5774 0.5774]\n",
      "u_2 = [ 0.5774  0.5774 -0.5774 -0.    ]\n",
      "u_3 = [ 0.4082  0.      0.4082 -0.8165]\n"
     ]
    }
   ],
   "source": [
    "import numpy as np \n",
    " \n",
    "def gram_schmidt(vectors): \n",
    "    orthonormal_basis = [] \n",
    "    for v in vectors: \n",
    "        # Quitar proyecciones sobre los vectores ya ortonormalizados \n",
    "        for u in orthonormal_basis: \n",
    "            v = v - np.dot(v, u) * u \n",
    "        norm = np.linalg.norm(v) \n",
    "        if norm > 1e-10:  # evitar división por cero (vector nulo) \n",
    "            orthonormal_basis.append(v / norm) \n",
    "    return orthonormal_basis \n",
    " \n",
    "# Vectores originales \n",
    "alpha_1 = np.array([1, 0, 1, 1], dtype=float) \n",
    "alpha_2 = np.array([2, 1, 0, 1], dtype=float) \n",
    "alpha_3 = np.array([1, 0, 1, -2], dtype=float) \n",
    "alpha_4 = np.array([2, 0, 2, -1], dtype=float) \n",
    " \n",
    "# Ortonormalización \n",
    "basis = gram_schmidt([alpha_1, alpha_2, alpha_3, alpha_4]) \n",
    " \n",
    "# Mostrar resultados \n",
    "print(\"Base ortonormal:\") \n",
    "for i, vec in enumerate(basis, 1): \n",
    "    print(f\"u_{i} =\", np.round(vec, 4))"
   ]
  },
  {
   "cell_type": "markdown",
   "id": "69ff023e",
   "metadata": {},
   "source": [
    " Los siguientes parámetros permiten calcular el bit error rate para una modulación antipodal ( por ejemplo BPSK)\n",
    " =Potencia de señal transmitida  \n",
    "=Longitud de onda de la portadora \n",
    "=Ganancia de la antena transmisora\n",
    " =Ganancia de la antena receptora\n",
    " = distancia \n",
    "= Temperatura de ruido del receptor  \n",
    "= bit rate \n",
    "Escriba una función en python3  BER(pt,lda,gt,gr,d,tn,rb) que devuelva el bit error rate (BER)\n",
    " Exprese el resultado con con 4 decimales ( para su corrección automática)"
   ]
  },
  {
   "cell_type": "code",
   "execution_count": 1,
   "id": "c566ff0b",
   "metadata": {},
   "outputs": [
    {
     "name": "stdout",
     "output_type": "stream",
     "text": [
      "22583.855886036934\n"
     ]
    }
   ],
   "source": [
    "import math \n",
    "from scipy.stats import norm \n",
    "import numpy as np \n",
    "kb=1.381e-23 #Constante de Boltzmann \n",
    "def BER(pt, lda, gt, gr, d, tn, rb): \n",
    "  d = d * 1000 \n",
    "  rb = rb * 1000 \n",
    "  epsilon = ((1 / rb) * gt * gr * pt) / ((((4 * 3.14 * d) / lda) ** 2) * kb * tn) \n",
    "  return epsilon \n",
    "print(BER(14.9,0.13,575.44 ,1.38e6 ,1.6e6,13.5 ,117.6))"
   ]
  },
  {
   "cell_type": "markdown",
   "id": "b2747392",
   "metadata": {},
   "source": [
    "Este ejercicio está basado en el ejemplo 3.10, ubicado en la página 106 del libro Principles of Digital Communication: A top-down approach - Bixio Rimoldi. La señalización se conoce como Single-Shot QAM\n",
    "Realizar un conformador de onda con:\n",
    "\n",
    "\\phi_1(t) = \\sqrt{\\frac{2}{T}}cos(2\\pi f_c t)\n",
    "\\phi_2(t) = \\sqrt{\\frac{2}{T}}sin(2\\pi f_c t)\n",
    "con t \\in [0,T]\n",
    "\n",
    "Considerando que 2 f_c T es un entero. Las componentes del código c_i=(c_{i,1},c_{i,2}) toma valores en un alfabeto discreto de la forma  $$\\{ \\pm a,\\pm 3a\\, ...,\\pm (m-1)a\\}$$ \n",
    " \n",
    "\n",
    "El programa debe generar la forma de onda para el código de entrada c_i, esto es:\n",
    "w_i (t) = c_{i,1} \\phi_1 (t) + c_{i,2} \\phi_2 (t)\n",
    "La forma de onda tiene f_c=1 y se genera con un muestreo \\Delta t=0.1"
   ]
  },
  {
   "cell_type": "code",
   "execution_count": null,
   "id": "59ca5698",
   "metadata": {},
   "outputs": [],
   "source": [
    "def waveformer(c, T=1, fc=1, delta_t=0.1):\n",
    "    def phi1(t):\n",
    "        return np.sqrt(2/T) * np.cos(2 * np.pi * fc * t)\n",
    "\n",
    "    def phi2(t):\n",
    "        return np.sqrt(2/T) * np.sin(2 * np.pi * fc * t)\n",
    " \n",
    "    c1, c2 = c\n",
    "\n",
    "    num = int(T / delta_t) + 1\n",
    "    t = np.linspace(0, T, num)\n",
    "\n",
    "    w = c1 * phi1(t) + c2 * phi2(t)\n",
    "    \n",
    "    return w\n"
   ]
  }
 ],
 "metadata": {
  "kernelspec": {
   "display_name": "Python 3",
   "language": "python",
   "name": "python3"
  },
  "language_info": {
   "codemirror_mode": {
    "name": "ipython",
    "version": 3
   },
   "file_extension": ".py",
   "mimetype": "text/x-python",
   "name": "python",
   "nbconvert_exporter": "python",
   "pygments_lexer": "ipython3",
   "version": "3.13.0"
  }
 },
 "nbformat": 4,
 "nbformat_minor": 5
}
