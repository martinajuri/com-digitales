{
 "cells": [
  {
   "cell_type": "markdown",
   "id": "7675c8d8",
   "metadata": {},
   "source": [
    "Calcular el valor de la norma de la señal ||\\alpha_{1} (t)|| integrando entre 1 y 2:\n",
    "\\alpha_{1} (t) = -2 t+4"
   ]
  },
  {
   "cell_type": "code",
   "execution_count": 3,
   "id": "8c9bb6c9",
   "metadata": {},
   "outputs": [
    {
     "name": "stdout",
     "output_type": "stream",
     "text": [
      "El valor de la norma de la señal es: 1.15470053837925\n"
     ]
    }
   ],
   "source": [
    "import sympy as sp\n",
    "\n",
    "# Definir la variable simbólica y la función\n",
    "t = sp.Symbol('t')\n",
    "alpha_1 = -2 * t + 4\n",
    "\n",
    "# Calcular la norma de la señal ||alpha_1(t)||^2 integrando el cuadrado de la función\n",
    "norma_cuadrada = sp.integrate(alpha_1**2, (t, 1, 2))\n",
    "\n",
    "# Obtener la raíz cuadrada para la norma\n",
    "norma = sp.sqrt(norma_cuadrada)\n",
    "\n",
    "# Convertir la norma a una forma numérica\n",
    "norma = norma.evalf()\n",
    "\n",
    "# Mostrar el resultado\n",
    "print(f\"El valor de la norma de la señal es: {norma}\")"
   ]
  },
  {
   "cell_type": "markdown",
   "id": "274bf991",
   "metadata": {},
   "source": [
    "A través del procedimiento de Gram-Schmidt de ortonormalización encontrar una base ortonormal para el espacio generado por los vectores \n",
    "\n",
    " \\alpha_1=(1,0,1,1)^T  , \\alpha_2=(2,1,0,1)^T  , \\alpha_3=(1,0,1,-2)^T  y  \\alpha_4=(2,0,2,-1)^T  "
   ]
  },
  {
   "cell_type": "code",
   "execution_count": 4,
   "id": "df3caf65",
   "metadata": {},
   "outputs": [
    {
     "name": "stdout",
     "output_type": "stream",
     "text": [
      "Base ortonormal:\n",
      "u_1 = [0.5774 0.     0.5774 0.5774]\n",
      "u_2 = [ 0.5774  0.5774 -0.5774 -0.    ]\n",
      "u_3 = [ 0.4082  0.      0.4082 -0.8165]\n"
     ]
    }
   ],
   "source": [
    "import numpy as np \n",
    " \n",
    "def gram_schmidt(vectors): \n",
    "    orthonormal_basis = [] \n",
    "    for v in vectors: \n",
    "        # Quitar proyecciones sobre los vectores ya ortonormalizados \n",
    "        for u in orthonormal_basis: \n",
    "            v = v - np.dot(v, u) * u \n",
    "        norm = np.linalg.norm(v) \n",
    "        if norm > 1e-10:  # evitar división por cero (vector nulo) \n",
    "            orthonormal_basis.append(v / norm) \n",
    "    return orthonormal_basis \n",
    " \n",
    "# Vectores originales \n",
    "alpha_1 = np.array([1, 0, 1, 1], dtype=float) \n",
    "alpha_2 = np.array([2, 1, 0, 1], dtype=float) \n",
    "alpha_3 = np.array([1, 0, 1, -2], dtype=float) \n",
    "alpha_4 = np.array([2, 0, 2, -1], dtype=float) \n",
    " \n",
    "# Ortonormalización \n",
    "basis = gram_schmidt([alpha_1, alpha_2, alpha_3, alpha_4]) \n",
    " \n",
    "# Mostrar resultados \n",
    "print(\"Base ortonormal:\") \n",
    "for i, vec in enumerate(basis, 1): \n",
    "    print(f\"u_{i} =\", np.round(vec, 4))"
   ]
  }
 ],
 "metadata": {
  "kernelspec": {
   "display_name": "Python 3",
   "language": "python",
   "name": "python3"
  },
  "language_info": {
   "codemirror_mode": {
    "name": "ipython",
    "version": 3
   },
   "file_extension": ".py",
   "mimetype": "text/x-python",
   "name": "python",
   "nbconvert_exporter": "python",
   "pygments_lexer": "ipython3",
   "version": "3.13.0"
  }
 },
 "nbformat": 4,
 "nbformat_minor": 5
}
