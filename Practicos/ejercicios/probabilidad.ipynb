{
 "cells": [
  {
   "cell_type": "markdown",
   "id": "2a30f9b9",
   "metadata": {},
   "source": [
    "## Gram-Schmidt"
   ]
  },
  {
   "cell_type": "code",
   "execution_count": 1,
   "id": "10a233c2",
   "metadata": {},
   "outputs": [
    {
     "name": "stdout",
     "output_type": "stream",
     "text": [
      "Base ortonormal:\n",
      "u_1 = [0.5774 0.     0.5774 0.5774]\n",
      "u_2 = [ 0.5774  0.5774 -0.5774 -0.    ]\n",
      "u_3 = [ 0.4082  0.      0.4082 -0.8165]\n"
     ]
    }
   ],
   "source": [
    "import numpy as np \n",
    " \n",
    "def gram_schmidt(vectors): \n",
    "    orthonormal_basis = [] \n",
    "    for v in vectors: \n",
    "        # Quitar proyecciones sobre los vectores ya ortonormalizados \n",
    "        for u in orthonormal_basis: \n",
    "            v = v - np.dot(v, u) * u \n",
    "        norm = np.linalg.norm(v) \n",
    "        if norm > 1e-10:  # evitar división por cero (vector nulo) \n",
    "            orthonormal_basis.append(v / norm) \n",
    "    return orthonormal_basis \n",
    " \n",
    "# Vectores originales \n",
    "alpha_1 = np.array([1, 0, 1, 1], dtype=float) \n",
    "alpha_2 = np.array([2, 1, 0, 1], dtype=float) \n",
    "alpha_3 = np.array([1, 0, 1, -2], dtype=float) \n",
    "alpha_4 = np.array([2, 0, 2, -1], dtype=float) \n",
    " \n",
    "# Ortonormalización \n",
    "basis = gram_schmidt([alpha_1, alpha_2, alpha_3, alpha_4]) \n",
    " \n",
    "# Mostrar resultados \n",
    "print(\"Base ortonormal:\") \n",
    "for i, vec in enumerate(basis, 1): \n",
    "    print(f\"u_{i} =\", np.round(vec, 4))"
   ]
  },
  {
   "cell_type": "markdown",
   "id": "aa7de0ba",
   "metadata": {},
   "source": [
    "¿Será de esta caja?\n",
    "\n",
    "En un recinto existen 4 cajas con diferentes cantidades de componentes. Cada caja contiene componentes buenos y defectuosos según el detalle del siguiente cuadro:\n",
    "\n",
    "Distribución de Componentes buenos y defectuosos.\n",
    "Buenos\tDefectuosos\tTotal H\n",
    "Caja 1\t1900\t100\t2000\n",
    "Caja 2\t300\t200\t500\n",
    "Caja 3\t900\t100\t1000\n",
    "Caja 4\t900\t100\t1000\n",
    "Total V\t4000\t500\t4500\n",
    "\n",
    "Seleccionando de manera aleatoria la caja y luego extrayendo aleatoriamente un componente,  resulta ser un componente defectuoso. ¿cuál es la probabilidad de que el mismo haya sido extraído de la caja 2?"
   ]
  },
  {
   "cell_type": "code",
   "execution_count": null,
   "id": "caf6b3a1",
   "metadata": {},
   "outputs": [
    {
     "name": "stdout",
     "output_type": "stream",
     "text": [
      "Probabilidades de defectuosos dado caja 2:\n",
      "P(defectuoso | Caja 1) = 0.0500\n",
      "P(defectuoso | Caja 2) = 0.4000\n",
      "P(defectuoso | Caja 3) = 0.1000\n",
      "P(defectuoso | Caja 4) = 0.1000\n",
      "Probabilidad total de seleccionar un componente defectuoso: P(defectuoso) = 0.1625\n",
      "La probabilidad de que el componente defectuoso provenga de la Caja 2 es: 0.6154\n"
     ]
    }
   ],
   "source": [
    "# Datos del problema\n",
    "cajas = {\n",
    "    \"Caja 1\": {\"Buenos\": 1900, \"Defectuosos\": 100, \"Total\": 2000},\n",
    "    \"Caja 2\": {\"Buenos\": 300, \"Defectuosos\": 200, \"Total\": 500},\n",
    "    \"Caja 3\": {\"Buenos\": 900, \"Defectuosos\": 100, \"Total\": 1000},\n",
    "    \"Caja 4\": {\"Buenos\": 900, \"Defectuosos\": 100, \"Total\": 1000},\n",
    "}\n",
    "\n",
    "# Probabilidad de seleccionar cada caja (todas tienen la misma probabilidad)\n",
    "P_caja = 1 / len(cajas)\n",
    "\n",
    "# Probabilidad de que un componente sea defectuoso dado que proviene de cada caja\n",
    "P_defectuoso_dado_caja = {caja: datos[\"Defectuosos\"] / datos[\"Total\"] for caja, datos in cajas.items()}\n",
    "\n",
    "# Probabilidad total de seleccionar un componente defectuoso (Ley de la probabilidad total)\n",
    "P_defectuoso = sum(P_defectuoso_dado_caja[caja] * P_caja for caja in cajas)\n",
    "\n",
    "# Probabilidad de que el componente defectuoso provenga de la Caja 2 (Teorema de Bayes)\n",
    "P_caja2_dado_defectuoso = (P_defectuoso_dado_caja[\"Caja 2\"] * P_caja) / P_defectuoso\n",
    "\n",
    "# Mostrar el resultado\n",
    "print(f\"La probabilidad de que el componente defectuoso provenga de la Caja 2 es: {P_caja2_dado_defectuoso:.4f}\")"
   ]
  }
 ],
 "metadata": {
  "kernelspec": {
   "display_name": "Python 3",
   "language": "python",
   "name": "python3"
  },
  "language_info": {
   "codemirror_mode": {
    "name": "ipython",
    "version": 3
   },
   "file_extension": ".py",
   "mimetype": "text/x-python",
   "name": "python",
   "nbconvert_exporter": "python",
   "pygments_lexer": "ipython3",
   "version": "3.13.0"
  }
 },
 "nbformat": 4,
 "nbformat_minor": 5
}
