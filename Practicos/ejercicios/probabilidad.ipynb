{
 "cells": [
  {
   "cell_type": "markdown",
   "id": "2a30f9b9",
   "metadata": {},
   "source": [
    "## Gram-Schmidt"
   ]
  },
  {
   "cell_type": "code",
   "execution_count": 1,
   "id": "10a233c2",
   "metadata": {},
   "outputs": [
    {
     "name": "stdout",
     "output_type": "stream",
     "text": [
      "Base ortonormal:\n",
      "u_1 = [0.5774 0.     0.5774 0.5774]\n",
      "u_2 = [ 0.5774  0.5774 -0.5774 -0.    ]\n",
      "u_3 = [ 0.4082  0.      0.4082 -0.8165]\n"
     ]
    }
   ],
   "source": [
    "import numpy as np \n",
    " \n",
    "def gram_schmidt(vectors): \n",
    "    orthonormal_basis = [] \n",
    "    for v in vectors: \n",
    "        # Quitar proyecciones sobre los vectores ya ortonormalizados \n",
    "        for u in orthonormal_basis: \n",
    "            v = v - np.dot(v, u) * u \n",
    "        norm = np.linalg.norm(v) \n",
    "        if norm > 1e-10:  # evitar división por cero (vector nulo) \n",
    "            orthonormal_basis.append(v / norm) \n",
    "    return orthonormal_basis \n",
    " \n",
    "# Vectores originales \n",
    "alpha_1 = np.array([1, 0, 1, 1], dtype=float) \n",
    "alpha_2 = np.array([2, 1, 0, 1], dtype=float) \n",
    "alpha_3 = np.array([1, 0, 1, -2], dtype=float) \n",
    "alpha_4 = np.array([2, 0, 2, -1], dtype=float) \n",
    " \n",
    "# Ortonormalización \n",
    "basis = gram_schmidt([alpha_1, alpha_2, alpha_3, alpha_4]) \n",
    " \n",
    "# Mostrar resultados \n",
    "print(\"Base ortonormal:\") \n",
    "for i, vec in enumerate(basis, 1): \n",
    "    print(f\"u_{i} =\", np.round(vec, 4))"
   ]
  },
  {
   "cell_type": "markdown",
   "id": "aa7de0ba",
   "metadata": {},
   "source": []
  }
 ],
 "metadata": {
  "kernelspec": {
   "display_name": "Python 3",
   "language": "python",
   "name": "python3"
  },
  "language_info": {
   "codemirror_mode": {
    "name": "ipython",
    "version": 3
   },
   "file_extension": ".py",
   "mimetype": "text/x-python",
   "name": "python",
   "nbconvert_exporter": "python",
   "pygments_lexer": "ipython3",
   "version": "3.13.0"
  }
 },
 "nbformat": 4,
 "nbformat_minor": 5
}
